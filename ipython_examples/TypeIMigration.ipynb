{
 "cells": [
  {
   "cell_type": "code",
   "execution_count": 1,
   "metadata": {},
   "outputs": [],
   "source": [
    "import rebound as rb\n",
    "import reboundx as rbx\n",
    "import astropy.units as u\n",
    "import astropy.constants as constants\n",
    "import numpy as np\n",
    "import matplotlib.pyplot as plt"
   ]
  },
  {
   "cell_type": "code",
   "execution_count": 2,
   "metadata": {},
   "outputs": [],
   "source": [
    "sim = rb.Simulation()\n",
    "sim.units = ('yr', 'AU', 'Msun')\n",
    "sim.add(m = 1)\n",
    "sim.add(m = 1.e-4, a=0.5, e=0, inc = 0)\n",
    "sim.move_to_com()"
   ]
  },
  {
   "cell_type": "code",
   "execution_count": 4,
   "metadata": {},
   "outputs": [],
   "source": [
    "simx = rbx.Extras(sim)\n",
    "mig = simx.load_force(\"type_I_migration\")\n",
    "simx.add_force(mig)\n",
    "\n",
    "mig.params[\"inner_disk_edge_position\"] = 0.1\n",
    "mig.params[\"disk_edge_width\"] = 0.03*(0.1**0.25)                                                    #hedge = 0.03 x (dedge^0.25)\n",
    "mig.params[\"flaring_index\"] = 0.25\n",
    "mig.params[\"surface_density_exponent\"] = 1\n",
    "mig.params[\"initial_surface_density\"] = ((1000* u.g /u.cm**2).to(u.Msun/u.AU**2)).value             #transformed from g/cm^2 to code units\n",
    "mig.params[\"scale_height\"] = 0.03\n",
    "ps = sim.particles"
   ]
  },
  {
   "cell_type": "code",
   "execution_count": null,
   "metadata": {},
   "outputs": [],
   "source": [
    "sim.integrator = 'whfast'\n",
    "sim.dt = np.sqrt(0.1**3)/20"
   ]
  },
  {
   "cell_type": "code",
   "execution_count": null,
   "metadata": {},
   "outputs": [],
   "source": [
    "times = np.linspace(0, 1e4, 1000)\n",
    "a_integration = np.zeros((1000))\n",
    "for i, t in enumerate(times):\n",
    "    sim.integrate(t)\n",
    "    a_integration[i] = ps[1].a"
   ]
  },
  {
   "cell_type": "code",
   "execution_count": null,
   "metadata": {},
   "outputs": [],
   "source": [
    "G = (4*np.pi**2)                                                #In the code units used here\n",
    "m = (1e-4)                                                      #Mass of the planets\n",
    "h0 = (0.03)                                                     #Scale height (at 1AU)\n",
    "sd0 = (((1000* u.g /u.cm**2).to(u.Msun/u.AU**2)).value)         #The surface density at 1 AU\n",
    "\n",
    "tau_tilde = ((1*(h0**2)) / (3.8*m*sd0*(np.sqrt(G))))            #The terms of the equation for the semi-major axis independent on a\n",
    "\n",
    "a_analytical = []\n",
    "for i in (1 - (t/tau_tilde)):\n",
    "    if i > 0.1:\n",
    "        a_analytical.append(i)\n",
    "    else:\n",
    "        a_analytical.append(0.1)                                #Manually setting the analytically calculated a to stop at the inner disk edge as the integration does"
   ]
  },
  {
   "cell_type": "code",
   "execution_count": null,
   "metadata": {},
   "outputs": [],
   "source": [
    "plt.plot(times*0.001, a_integration, label = 'Numerical evolution', c = 'green') \n",
    "plt.plot(times*0.001, a_analytical, label = 'Analytical evolution', c = 'brown')\n",
    "plt.xlim(np.min(times)*0.001, np.max(times)*0.001) \n",
    "plt.xlabel('time [kyr]')\n",
    "plt.ylabel('Semi-major axis [AU]')\n",
    "plt.legend()"
   ]
  }
 ],
 "metadata": {
  "kernelspec": {
   "display_name": "Python 3",
   "language": "python",
   "name": "python3"
  },
  "language_info": {
   "codemirror_mode": {
    "name": "ipython",
    "version": 3
   },
   "file_extension": ".py",
   "mimetype": "text/x-python",
   "name": "python",
   "nbconvert_exporter": "python",
   "pygments_lexer": "ipython3",
   "version": "3.8.3"
  }
 },
 "nbformat": 4,
 "nbformat_minor": 4
}
