{
 "cells": [
  {
   "cell_type": "markdown",
   "metadata": {},
   "source": [
    "# Type I Migration with an Inner Disk Edge\n",
    "\n",
    "Rather than prescribing migration, eccentricity and inclination damping timescales directly, we use a model for Type I Migration that calculates those timescales from physical disk parameters.\n",
    "\n",
    "We initialize a single planet at a semimajor axis of 1 AU"
   ]
  },
  {
   "cell_type": "code",
   "execution_count": 1,
   "metadata": {},
   "outputs": [],
   "source": [
    "import rebound\n",
    "import reboundx\n",
    "import astropy.units as u\n",
    "import astropy.constants as constants\n",
    "import numpy as np\n",
    "import matplotlib.pyplot as plt"
   ]
  },
  {
   "cell_type": "code",
   "execution_count": 2,
   "metadata": {},
   "outputs": [],
   "source": [
    "sim = rebound.Simulation()\n",
    "sim.units = ('yr', 'AU', 'Msun')\n",
    "sim.add(m = 1)\n",
    "sim.add(m = 1.e-4, a=1, e=0, inc = 0)\n",
    "sim.move_to_com()\n",
    "ps = sim.particles"
   ]
  },
  {
   "cell_type": "markdown",
   "metadata": {},
   "source": [
    "Now we add the `type_I_migration` effect, and set the appropriate disk parameters. Note that we chose code units of AU for all the distances above. We require\n",
    "\n",
    "* The disk scale height in code units (here AU), 1 code unit from the central star ($h_1$) \n",
    "* The disk surface density 1 code unit from the central star ($\\Sigma_1$) \n",
    "* The disk surface density exponent ($\\alpha$), assuming a power law $\\Sigma(r) = \\Sigma_1 r^{-\\alpha}$, where $r$ is the radial distance from the star in code units\n",
    "* The disk flaring index ($\\beta$), assuming a power-law scale height $h(r) = h_1 r^\\beta$"
   ]
  },
  {
   "cell_type": "code",
   "execution_count": 3,
   "metadata": {},
   "outputs": [],
   "source": [
    "rebx = reboundx.Extras(sim)\n",
    "mig = rebx.load_force(\"type_I_migration\")\n",
    "rebx.add_force(mig)\n",
    "\n",
    "mig.params[\"tIm_scale_height_1\"] = 0.03\n",
    "mig.params[\"tIm_surface_density_1\"] = ((1000* u.g /u.cm**2).to(u.Msun/u.AU**2)).value             #transformed from g/cm^2 to code units\n",
    "mig.params[\"tIm_surface_density_exponent\"] = 1\n",
    "mig.params[\"tIm_flaring_index\"] = 0.25"
   ]
  },
  {
   "cell_type": "markdown",
   "metadata": {},
   "source": [
    "We can also add an inner disk edge (ide) to halt migration. This is an artificial prescription for halting the planet at `ide_position` (within one disk scale height)."
   ]
  },
  {
   "cell_type": "code",
   "execution_count": 4,
   "metadata": {},
   "outputs": [],
   "source": [
    "mig.params[\"ide_position\"] = 0.1"
   ]
  },
  {
   "cell_type": "markdown",
   "metadata": {},
   "source": [
    "We set the timestep to 5% of the orbital period at the inner disk edge to make sure we always resolve the orbit"
   ]
  },
  {
   "cell_type": "code",
   "execution_count": 5,
   "metadata": {},
   "outputs": [],
   "source": [
    "sim.integrator = 'whfast'\n",
    "sim.dt = mig.params[\"ide_position\"]**(3/2)/20"
   ]
  },
  {
   "cell_type": "markdown",
   "metadata": {},
   "source": [
    "We now integrate the system"
   ]
  },
  {
   "cell_type": "code",
   "execution_count": 6,
   "metadata": {},
   "outputs": [],
   "source": [
    "times = np.linspace(0, 4e3, 1000)\n",
    "\n",
    "a_integration = np.zeros((1000))\n",
    "for i, t in enumerate(times):\n",
    "    sim.integrate(t)\n",
    "    a_integration[i] = ps[1].a"
   ]
  },
  {
   "cell_type": "markdown",
   "metadata": {},
   "source": [
    "and compare to the analytical predictions"
   ]
  },
  {
   "cell_type": "code",
   "execution_count": 7,
   "metadata": {},
   "outputs": [],
   "source": [
    "h0 = mig.params[\"tIm_scale_height_1\"]                                                \n",
    "sd0 = mig.params[\"tIm_surface_density_1\"]\n",
    "alpha = mig.params[\"tIm_surface_density_exponent\"] = 1\n",
    "\n",
    "# Combining Eqs 3.6 and 3.3 of Pichierri et al. 2018\n",
    "tau_tilde = h0**2 / ((2.7+1.1*alpha)*ps[1].m*sd0*(np.sqrt(sim.G))) \n",
    "\n",
    "a_analytical = []\n",
    "for i in (1 - (times/tau_tilde)):\n",
    "    if i > mig.params[\"ide_position\"]: # outside inner disk edge\n",
    "        a_analytical.append(i)\n",
    "    else:                              # Manually set to the the inner disk edge location\n",
    "        a_analytical.append(mig.params[\"ide_position\"]) "
   ]
  },
  {
   "cell_type": "code",
   "execution_count": 8,
   "metadata": {},
   "outputs": [
    {
     "data": {
      "text/plain": [
       "(0.0, 1.0)"
      ]
     },
     "execution_count": 8,
     "metadata": {},
     "output_type": "execute_result"
    },
    {
     "name": "stderr",
     "output_type": "stream",
     "text": [
      "findfont: Font family ['serif'] not found. Falling back to DejaVu Sans.\n",
      "findfont: Generic family 'serif' not found because none of the following families were found: cm\n"
     ]
    },
    {
     "data": {
      "image/png": "[encoded data removed]",
      "text/plain": [
       "<Figure size 432x288 with 1 Axes>"
      ]
     },
     "metadata": {
      "needs_background": "light"
     },
     "output_type": "display_data"
    }
   ],
   "source": [
    "plt.plot(times*0.001, a_integration, label = 'Numerical evolution', c = 'green', linewidth = 4, alpha = 0.6) \n",
    "plt.plot(times*0.001, a_analytical, label = 'Analytical prediction', c = 'brown', linestyle = \"dashed\", linewidth = 1)\n",
    "plt.xlim(np.min(times)*0.001, np.max(times)*0.001) \n",
    "plt.xlabel('time [kyr]')\n",
    "plt.ylabel('Semi-major axis [AU]')\n",
    "plt.legend()\n",
    "plt.ylim(0,1)"
   ]
  },
  {
   "cell_type": "code",
   "execution_count": null,
   "metadata": {},
   "outputs": [],
   "source": []
  }
 ],
 "metadata": {
  "kernelspec": {
   "display_name": "Python 3",
   "language": "python",
   "name": "python3"
  },
  "language_info": {
   "codemirror_mode": {
    "name": "ipython",
    "version": 3
   },
   "file_extension": ".py",
   "mimetype": "text/x-python",
   "name": "python",
   "nbconvert_exporter": "python",
   "pygments_lexer": "ipython3",
   "version": "3.7.12"
  }
 },
 "nbformat": 4,
 "nbformat_minor": 4
}
