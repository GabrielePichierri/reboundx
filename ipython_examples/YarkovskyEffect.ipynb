{
 "cells": [
  {
   "cell_type": "markdown",
   "metadata": {},
   "source": [
    "# Yarkovsky Effect"
   ]
  },
  {
   "cell_type": "markdown",
   "metadata": {},
   "source": [
    "This example shows how to add the Yarkovsky effect in a Rebound simulation. There are two versions, which we call the 'Full Version' and the 'Simple Version.' A special parameter called 'ye_flag' is used to switch between the two. The difference between the versions and what situations they're better suited for is discussed in more detail below. \n",
    "\n",
    "For more information on this effect, please visit: (implementation paper in progress) \n",
    "\n",
    "We'll start with the Full Version."
   ]
  },
  {
   "cell_type": "markdown",
   "metadata": {},
   "source": [
    "## Full Version"
   ]
  },
  {
   "cell_type": "markdown",
   "metadata": {},
   "source": [
    "This version of the effect is based off of the equations found in Veras et al. (2015). A link to the paper is provided below. The Full Version can be used to get detailed calculations of the Yarkovsky effect on a particular body. However, it requires a large amount of parameters that may be difficult to find for a particular object. It also takes more computational time due to the large amount of equations that must be calaculated between each time step of the simulation. This version of the effect can be used to get accurate calculations on how a body is perturbed by the Yarkovsky effect.\n",
    "\n",
    "Link to paper: https://ui.adsabs.harvard.edu/abs/2015MNRAS.451.2814V/abstract\n",
    "\n",
    "Below is a simple example to show how to add the effect to a simulation. First, we create a Rebound simulation with the Sun and a test particle (which will be considered an asteroid) at .5 AU."
   ]
  },
  {
   "cell_type": "code",
   "execution_count": 1,
   "metadata": {},
   "outputs": [
    {
     "name": "stdout",
     "output_type": "stream",
     "text": [
      "\n",
      "***INITIAL ORBITS:***\n",
      "<rebound.Orbit instance, a=0.5000000000000001 e=1.799893761170345e-16 inc=0.0 Omega=0.0 omega=0.0 f=0.0>\n"
     ]
    }
   ],
   "source": [
    "import rebound\n",
    "import reboundx\n",
    "import numpy as np\n",
    "import astropy.units as u\n",
    "import astropy.constants as constants\n",
    "import matplotlib.pyplot as plt\n",
    "%matplotlib inline\n",
    "\n",
    "#Simulation begins here\n",
    "sim = rebound.Simulation()\n",
    "\n",
    "sim.units = ('yr', 'AU', 'Msun') #changes simulation and G to units of solar masses, years, and AU  \n",
    "sim.integrator = \"whfast\" #integrator for sim\n",
    "sim.dt = .05 #timestep for sim\n",
    "\n",
    "sim.add(m=1) #Adds Sun \n",
    "sim.add(a=.5, f=0, Omega=0, omega=0, e=0, inc=0, m=0) #adds test particle \n",
    "\n",
    "#Moves all particles to center of momentum frame\n",
    "sim.move_to_com()\n",
    "\n",
    "#Gives orbital information before the simulation begins\n",
    "print(\"\\n***INITIAL ORBITS:***\")\n",
    "for orbit in sim.calculate_orbits():\n",
    "    print(orbit)"
   ]
  },
  {
   "cell_type": "markdown",
   "metadata": {},
   "source": [
    "As with all REBOUNDx effects, the parameters must be inputed with the same units as the simulation (in this case it's AU/Msun/yr). We'll use the astropy units module to help avoid errors"
   ]
  },
  {
   "cell_type": "code",
   "execution_count": 2,
   "metadata": {},
   "outputs": [],
   "source": [
    "density = (3000.0*u.kg/u.m**3).to(u.Msun/u.AU**3)\n",
    "c = (constants.c).to(u.AU/u.yr) #speed of light\n",
    "lstar = (3.828e26*u.kg*u.m**2/u.s**3).to(u.Msun*u.AU**2/u.yr**3) #luminosity of star\n",
    "radius = (1000*u.m).to(u.AU) #radius of object\n",
    "albedo = .017 #albedo of object\n",
    "stef_boltz = constants.sigma_sb.to(u.Msun/u.yr**3/u.K**4) #Stefan-Boltzmann constant\n",
    "emissivity = .9 #emissivity of object\n",
    "k = .25 #constant between\n",
    "Gamma = (310*u.kg/u.s**(5/2)).to(u.Msun/u.yr**(5/2)) #thermal inertia of object\n",
    "rotation_period = (15470.9*u.s).to(u.yr) #rotation period of object"
   ]
  },
  {
   "cell_type": "markdown",
   "metadata": {},
   "source": [
    "We then add the Yarkovsky effect and the required parameters for this version. Importantly, we must set 'ye_flag' to 0 to get the Full Version. Physical constants and the stellar luminosity get added to the effect `yark`"
   ]
  },
  {
   "cell_type": "code",
   "execution_count": 3,
   "metadata": {},
   "outputs": [],
   "source": [
    "#Loads the effect into Rebound\n",
    "rebx = reboundx.Extras(sim)\n",
    "yark = rebx.load_force(\"yarkovsky_effect\")\n",
    "\n",
    "#Sets the parameters for the effect\n",
    "yark.params[\"ye_c\"] = c.value #set on the sim and not a particular particle\n",
    "yark.params[\"ye_lstar\"] = lstar.value #set on the sim and not a particular particle\n",
    "yark.params[\"ye_stef_boltz\"] = stef_boltz.value #set on the sim and not a particular particle"
   ]
  },
  {
   "cell_type": "markdown",
   "metadata": {},
   "source": [
    "Other parameters need to be added to each particle feeling the Yarkovsky effect"
   ]
  },
  {
   "cell_type": "code",
   "execution_count": 4,
   "metadata": {},
   "outputs": [],
   "source": [
    "# Sets parameters for the particle\n",
    "ps = sim.particles\n",
    "ps[1].r = radius.value #remember radius is not inputed as a Rebx parameter - it's inputed on the particle in the Rebound sim\n",
    "ps[1].params[\"ye_flag\"] = 0 #setting this flag to 0 will give us the full version of the effect\n",
    "ps[1].params[\"ye_body_density\"] = density.value\n",
    "ps[1].params[\"ye_albedo\"] = albedo\n",
    "ps[1].params[\"ye_emissivity\"] = emissivity\n",
    "ps[1].params[\"ye_k\"] = k\n",
    "ps[1].params[\"ye_thermal_inertia\"] = Gamma.value\n",
    "ps[1].params[\"ye_rotation_period\"] = rotation_period.value\n",
    "\n",
    "# For this example we assume the object has a spin axis perpendicular to the orbital plane: unit vector = (0,0,1)\n",
    "ps[1].params[\"ye_spin_axis_x\"] = 0\n",
    "ps[1].params[\"ye_spin_axis_y\"] = 0\n",
    "ps[1].params[\"ye_spin_axis_z\"] = 1\n",
    "\n",
    "rebx.add_force(yark) #adds the force to the simulation"
   ]
  },
  {
   "cell_type": "markdown",
   "metadata": {},
   "source": [
    "We integrate this system for 100,000 years and print out the difference between the particle's semi-major axis before and after the simulation."
   ]
  },
  {
   "cell_type": "code",
   "execution_count": 5,
   "metadata": {},
   "outputs": [
    {
     "name": "stdout",
     "output_type": "stream",
     "text": [
      "CHANGE IN SEMI-MAJOR AXIS: 1.921943330540632e-05 AU\n",
      "\n",
      "CPU times: user 1.85 s, sys: 6.53 ms, total: 1.85 s\n",
      "Wall time: 1.86 s\n"
     ]
    }
   ],
   "source": [
    "%%time\n",
    "tmax=100000 # in yrs\n",
    "Nout = 1000\n",
    "times = np.linspace(0, tmax, Nout)\n",
    "a_start = .5 #starting semi-major axis for the asteroid\n",
    "a = np.zeros(Nout)\n",
    "for i, time in enumerate(times):\n",
    "    a[i] = ps[1].a\n",
    "    sim.integrate(time)\n",
    "a_final = ps[1].a #semi-major axis of asteroid after the sim    \n",
    "                      \n",
    "print(\"CHANGE IN SEMI-MAJOR AXIS:\", a_final-a_start, \"AU\\n\") #prints difference between the initial and final semi-major axes of asteroid"
   ]
  },
  {
   "cell_type": "code",
   "execution_count": 6,
   "metadata": {},
   "outputs": [
    {
     "data": {
      "text/plain": [
       "Text(0, 0.5, 'Change in semimajor axis (AU)')"
      ]
     },
     "execution_count": 6,
     "metadata": {},
     "output_type": "execute_result"
    },
    {
     "name": "stderr",
     "output_type": "stream",
     "text": [
      "findfont: Font family ['serif'] not found. Falling back to DejaVu Sans.\n",
      "findfont: Generic family 'serif' not found because none of the following families were found: cm\n"
     ]
    },
    {
     "data": {
      "image/png": "[encoded data removed]",
      "text/plain": [
       "<Figure size 432x288 with 1 Axes>"
      ]
     },
     "metadata": {
      "needs_background": "light"
     },
     "output_type": "display_data"
    }
   ],
   "source": [
    "fig, ax = plt.subplots()\n",
    "ax.plot(times, a-a_start, '.')\n",
    "ax.set_xlabel('Time (yrs)')\n",
    "ax.set_ylabel('Change in semimajor axis (AU)')"
   ]
  },
  {
   "cell_type": "markdown",
   "metadata": {
    "collapsed": true
   },
   "source": [
    "## Simple Version"
   ]
  },
  {
   "cell_type": "markdown",
   "metadata": {},
   "source": [
    "This version of the effect is based off of equations from Veras et al. (2019). Once again, a link to this paper is provided below. This version simplifies the equations by placing constant values in a rotation matrix that in general is time-dependent. It requires fewer parameters than the full version and takes less computational time. However, it is mostly useful only to get a general idea on how much the effect can push bodies inwards or outwards. This version of the effect is better for simulating large groups of asteroids or trying to see general trends in the behavior of a body. \n",
    "\n",
    "Link to paper: https://ui.adsabs.harvard.edu/abs/2019MNRAS.485..708V/abstract\n",
    "\n",
    "We'll use the same setup as before, but we'll also add another asteroid at .75 AU with identical physical properties. Let's start by creating a Rebound simulation again."
   ]
  },
  {
   "cell_type": "code",
   "execution_count": 7,
   "metadata": {},
   "outputs": [
    {
     "name": "stdout",
     "output_type": "stream",
     "text": [
      "\n",
      "***INITIAL ORBITS:***\n",
      "<rebound.Orbit instance, a=0.5000000000000001 e=1.799893761170345e-16 inc=0.0 Omega=0.0 omega=0.0 f=0.0>\n",
      "<rebound.Orbit instance, a=0.75 e=0.0 inc=0.0 Omega=0.0 omega=0.0 f=0.0>\n"
     ]
    }
   ],
   "source": [
    "sim = rebound.Simulation()\n",
    "\n",
    "sim.units = ('yr', 'AU', 'Msun') #changes simulation and G to units of solar masses, years, and AU  \n",
    "sim.integrator = \"whfast\" #integrator for sim\n",
    "sim.dt = .05 #timestep for sim\n",
    "\n",
    "sim.add(m=1) #Adds Sun \n",
    "sim.add(a=.5, f=0, Omega=0, omega=0, e=0, inc=0, m=0) #adds test particle \n",
    "sim.add(a=.75, f=0, Omega=0, omega=0, e=0, inc=0, m=0) #adds a second test particle\n",
    "\n",
    "#Moves all particles to center of momentum frame\n",
    "sim.move_to_com()\n",
    "\n",
    "#Gives orbital information before the simulation begins\n",
    "print(\"\\n***INITIAL ORBITS:***\")\n",
    "for orbit in sim.calculate_orbits():\n",
    "    print(orbit)"
   ]
  },
  {
   "cell_type": "markdown",
   "metadata": {},
   "source": [
    "We then add the Yarkovsky effect from Reboundx and the necesary parameters for this version. This time, we must make sure that 'ye_flag' is set to 1 or -1 to get the Simple Version of the effect. Setting it to 1 will push the asteroid outwards, while setting it to -1 will push it inwards. We'll push out our original asteroid and push in our new one. We use the same physical properties as in the example above:"
   ]
  },
  {
   "cell_type": "code",
   "execution_count": 8,
   "metadata": {},
   "outputs": [],
   "source": [
    "#Loads the effect into Rebound\n",
    "rebx = reboundx.Extras(sim)\n",
    "yark = rebx.load_force(\"yarkovsky_effect\")\n",
    "\n",
    "#Sets the parameters for the effect\n",
    "yark.params[\"ye_c\"] = c.value\n",
    "yark.params[\"ye_lstar\"] = lstar.value\n",
    "\n",
    "ps = sim.particles #simplifies way to access particles parameters \n",
    "ps[1].params[\"ye_flag\"] = 1 #setting this flag to 1 will give us the outward version of the effect \n",
    "ps[1].params[\"ye_body_density\"] = density.value\n",
    "ps[1].params[\"ye_albedo\"] = albedo\n",
    "ps[1].r = radius.value #remember radius is not inputed as a Rebx parameter - it's inputed on the particle in the Rebound sim\n",
    "\n",
    "ps[2].params[\"ye_flag\"] = -1 #setting this flag to -1 will give us the inward version of the effect \n",
    "ps[2].params[\"ye_body_density\"] = density.value\n",
    "ps[2].params[\"ye_albedo\"] = albedo\n",
    "ps[2].r = radius.value \n",
    "\n",
    "rebx.add_force(yark) #adds the force to the simulation"
   ]
  },
  {
   "cell_type": "markdown",
   "metadata": {},
   "source": [
    "Now we run the sim for 100,000 years and print out the results for both asteroids. Note the difference in simulation times between the versions. Even with an extra particle, the simple version was faster than the full version."
   ]
  },
  {
   "cell_type": "code",
   "execution_count": 9,
   "metadata": {},
   "outputs": [
    {
     "name": "stdout",
     "output_type": "stream",
     "text": [
      "CHANGE IN SEMI-MAJOR AXIS(Asteroid 1): 4.179660319481027e-05 AU\n",
      "\n",
      "CHANGE IN SEMI-MAJOR AXIS(Asteroid 2): -3.41278886567542e-05 AU\n",
      "\n",
      "CPU times: user 1.57 s, sys: 3.64 ms, total: 1.57 s\n",
      "Wall time: 1.58 s\n"
     ]
    }
   ],
   "source": [
    "%%time\n",
    "tmax=100000 # in yrs\n",
    "\n",
    "a_start_1 = .5 #starting semi-major axis for the 1st asteroid\n",
    "a_start_2 = .75 #starting semi-major axis for the 2nd asteroid\n",
    "\n",
    "a1, a2 = np.zeros(Nout), np.zeros(Nout)\n",
    "for i, time in enumerate(times):\n",
    "    a1[i] = ps[1].a\n",
    "    a2[i] = ps[2].a\n",
    "    sim.integrate(time)\n",
    "\n",
    "a_final_1 = ps[1].a #semi-major axis of 1st asteroid after the sim\n",
    "a_final_2 = ps[2].a #semi-major axis of 2nd asteroid after the sim\n",
    "                      \n",
    "print(\"CHANGE IN SEMI-MAJOR AXIS(Asteroid 1):\", a_final_1-a_start_1, \"AU\\n\")\n",
    "print(\"CHANGE IN SEMI-MAJOR AXIS(Asteroid 2):\", a_final_2-a_start_2, \"AU\\n\")"
   ]
  },
  {
   "cell_type": "code",
   "execution_count": 10,
   "metadata": {},
   "outputs": [
    {
     "data": {
      "text/plain": [
       "<matplotlib.legend.Legend at 0x7fd1a8cc11d0>"
      ]
     },
     "execution_count": 10,
     "metadata": {},
     "output_type": "execute_result"
    },
    {
     "data": {
      "image/png": "[encoded data removed]",
      "text/plain": [
       "<Figure size 432x288 with 1 Axes>"
      ]
     },
     "metadata": {
      "needs_background": "light"
     },
     "output_type": "display_data"
    }
   ],
   "source": [
    "fig, ax = plt.subplots()\n",
    "ax.plot(times, a1-a_start_1, '.', label='Asteroid 1')\n",
    "ax.plot(times, a2-a_start_2, '.', label='Asteroid 1')\n",
    "ax.set_xlabel('Time (yrs)')\n",
    "ax.set_ylabel('Change in semimajor axis (AU)')\n",
    "ax.legend()"
   ]
  },
  {
   "cell_type": "code",
   "execution_count": null,
   "metadata": {},
   "outputs": [],
   "source": []
  }
 ],
 "metadata": {
  "kernelspec": {
   "display_name": "Python 3",
   "language": "python",
   "name": "python3"
  },
  "language_info": {
   "codemirror_mode": {
    "name": "ipython",
    "version": 3
   },
   "file_extension": ".py",
   "mimetype": "text/x-python",
   "name": "python",
   "nbconvert_exporter": "python",
   "pygments_lexer": "ipython3",
   "version": "3.7.12"
  }
 },
 "nbformat": 4,
 "nbformat_minor": 2
}
