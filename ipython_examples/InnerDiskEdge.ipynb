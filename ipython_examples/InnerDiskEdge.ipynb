{
 "cells": [
  {
   "cell_type": "code",
   "execution_count": null,
   "metadata": {},
   "outputs": [],
   "source": [
    "import rebound as rb\n",
    "import reboundx as rbx\n",
    "import numpy as np\n",
    "import matplotlib.pyplot as plt"
   ]
  },
  {
   "cell_type": "code",
   "execution_count": null,
   "metadata": {},
   "outputs": [],
   "source": [
    "sim = rb.Simulation()\n",
    "sim.units = ('yr', 'AU', 'Msun')\n",
    "sim.add(m = 1)\n",
    "sim.add(m = 1.e-4, a=0.5, e=0, inc = 0)\n",
    "sim.move_to_com()"
   ]
  },
  {
   "cell_type": "code",
   "execution_count": null,
   "metadata": {},
   "outputs": [],
   "source": [
    "simx = rbx.Extras(sim)\n",
    "ide = simx.load_force(\"inner_disk_edge\")\n",
    "simx.add_force(ide)\n",
    "\n",
    "ide.params[\"inner_disk_edge_position\"] = 0.1\n",
    "ide.params[\"disk_edge_width\"] = 0.03*(0.1**0.25)                                                    #hedge = 0.03 x (dedge^0.25)\n",
    "ps = sim.particles"
   ]
  },
  {
   "cell_type": "code",
   "execution_count": null,
   "metadata": {},
   "outputs": [],
   "source": [
    "sim.integrator = 'whfast'\n",
    "sim.dt = np.sqrt(0.1**3)/20"
   ]
  },
  {
   "cell_type": "code",
   "execution_count": null,
   "metadata": {},
   "outputs": [],
   "source": [
    "times = np.linspace(0, 1e4, 1000)\n",
    "a_integration = np.zeros((1000))\n",
    "for i, t in enumerate(times):\n",
    "    sim.integrate(t)\n",
    "    a_integration[i] = ps[1].a\n",
    "\n",
    "\n",
    "a_analytical = np.exp(-(times)/(2e4))"
   ]
  },
  {
   "cell_type": "code",
   "execution_count": null,
   "metadata": {},
   "outputs": [],
   "source": [
    "plt.plot(times*0.001, a_integration, label = 'Numerical evolution', c = 'green') \n",
    "plt.plot(times*0.001, a_analytical, label = 'Analytical evolution', c = 'brown')\n",
    "plt.xlim(np.min(times)*0.001, np.max(times)*0.001) \n",
    "plt.xlabel('time [kyr]')\n",
    "plt.ylabel('Semi-major axis [AU]')\n",
    "plt.legend()"
   ]
  }
 ],
 "metadata": {
  "language_info": {
   "name": "plaintext"
  },
  "orig_nbformat": 4
 },
 "nbformat": 4,
 "nbformat_minor": 2
}
